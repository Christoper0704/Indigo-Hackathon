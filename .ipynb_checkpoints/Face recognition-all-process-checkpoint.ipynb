{
 "cells": [
  {
   "cell_type": "code",
   "execution_count": 2,
   "id": "solved-capitol",
   "metadata": {},
   "outputs": [
    {
     "name": "stdout",
     "output_type": "stream",
     "text": [
      "\n",
      " Enter your name = Emmanuel Edward\n",
      "\n",
      " Look at the camera and wait\n",
      "\n",
      " Exiting Program\n"
     ]
    }
   ],
   "source": [
    "import cv2\n",
    "import os\n",
    "import matplotlib.pyplot as plt\n",
    "import numpy as np\n",
    "\n",
    "cam = cv2.VideoCapture(0)\n",
    "cam.set(3, 360) # set video width\n",
    "cam.set(4, 240) # set video height\n",
    "face_detector = cv2.CascadeClassifier(cv2.data.haarcascades + 'haarcascade_frontalface_default.xml')\n",
    "name = input('\\n Enter your name = ')\n",
    "print(\"\\n Look at the camera and wait\")\n",
    "\n",
    "id_count = 0\n",
    "while(True):\n",
    "    ret, img = cam.read()\n",
    "    gray = cv2.cvtColor(img, cv2.COLOR_BGR2GRAY)\n",
    "    face = face_detector.detectMultiScale(gray, 1.25, 6, minSize = (100,100))\n",
    "    \n",
    "    for (x,y,w,h) in face:\n",
    "        cv2.rectangle(img, (x,y), (x+w,y+h), (166, 55, 35), 2)   \n",
    "        cface_gray = gray[y:y+h, x:x+w]\n",
    "        cface_resize = cv2.resize(cface_gray, (270,270), interpolation=cv2.INTER_AREA)\n",
    "#         norm_img = np.zeros((cface_resize.shape[0], cface_resize.shape[1]))\n",
    "#         cface_norm = cv2.normalize(cface_resize, norm_img, 0, 255, cv2.NORM_MINMAX)\n",
    "        id_count += 1\n",
    "        cv2.imwrite(\"dataset/User.\" + str(name) +'.' + str(id_count) + \".jpg\", cface_resize)\n",
    "            \n",
    "    cv2.imshow('image', img)\n",
    "    k = cv2.waitKey(100) & 0xff \n",
    "    \n",
    "    if k == 27:\n",
    "        break\n",
    "    if id_count >= 30:\n",
    "         break\n",
    "\n",
    "print(\"\\n Exiting Program\")\n",
    "cam.release()\n",
    "cv2.destroyAllWindows()"
   ]
  },
  {
   "cell_type": "code",
   "execution_count": 3,
   "id": "controlling-laugh",
   "metadata": {},
   "outputs": [
    {
     "name": "stdout",
     "output_type": "stream",
     "text": [
      "\n",
      " Training...\n",
      "\n",
      " 4 faces already trained. Exiting Program\n"
     ]
    }
   ],
   "source": [
    "import cv2\n",
    "import numpy as np\n",
    "from PIL import Image\n",
    "import os\n",
    "from sklearn.preprocessing import LabelEncoder\n",
    "\n",
    "path = 'dataset'\n",
    "recognizer = cv2.face.LBPHFaceRecognizer_create()\n",
    "detector = cv2.CascadeClassifier(cv2.data.haarcascades+\"haarcascade_frontalface_default.xml\");\n",
    "\n",
    "def Split_Image_Name(path):\n",
    "    imagePaths = [os.path.join(path,i) for i in os.listdir(path)]\n",
    "    faceSamples=[]\n",
    "    names = []\n",
    "    for path in imagePaths:\n",
    "        PIL_img = Image.open(path).convert('L') \n",
    "        img_array = np.array(PIL_img,'uint8')\n",
    "        name = os.path.split(path)[1].split('.')[1]\n",
    "        face = detector.detectMultiScale(img_array)\n",
    "        for (x,y,w,h) in face:\n",
    "            faceSamples.append(img_array[y:y+h,x:x+w])\n",
    "            names.append(name)\n",
    "    return faceSamples,names\n",
    "\n",
    "print (\"\\n Training...\")\n",
    "face,name = Split_Image_Name(path)\n",
    "ids = LabelEncoder().fit_transform(name)\n",
    "recognizer.train(face, ids)\n",
    "recognizer.write('trainer/trainer.yml') \n",
    "print(\"\\n {0} faces already trained. Exiting Program\".format(len(np.unique(ids))))"
   ]
  },
  {
   "cell_type": "code",
   "execution_count": 4,
   "id": "bottom-radar",
   "metadata": {},
   "outputs": [
    {
     "name": "stdout",
     "output_type": "stream",
     "text": [
      "[0 1 2 3]\n",
      "['Alicia' 'Emmanuel Edward' 'Felix Filipi' 'Wina Widjaya']\n"
     ]
    }
   ],
   "source": [
    "import pandas as pd\n",
    "ds = pd.DataFrame({\"Id\":ids,\"name\":name})\n",
    "print(ds['Id'].unique())\n",
    "print(ds['name'].unique())"
   ]
  },
  {
   "cell_type": "code",
   "execution_count": 10,
   "id": "fantastic-lesbian",
   "metadata": {},
   "outputs": [
    {
     "name": "stdout",
     "output_type": "stream",
     "text": [
      "Role = Mahasiswa\n",
      "\n",
      " Exit Program\n"
     ]
    }
   ],
   "source": [
    "import cv2\n",
    "import numpy as np\n",
    "import os \n",
    "\n",
    "recognizer = cv2.face.LBPHFaceRecognizer_create()\n",
    "recognizer.read('trainer/trainer.yml')\n",
    "face_detector = cv2.CascadeClassifier(cv2.data.haarcascades+'haarcascade_frontalface_default.xml');\n",
    "font = cv2.FONT_HERSHEY_SIMPLEX\n",
    "role = input('Role = ')\n",
    "\n",
    "cam = cv2.VideoCapture(0)\n",
    "cam.set(3, 640) \n",
    "cam.set(4, 480) \n",
    "\n",
    "minW = 0.1*cam.get(3)\n",
    "minH = 0.1*cam.get(4)\n",
    "\n",
    "def get_name():\n",
    "    path = 'dataset'\n",
    "    imagePaths = [os.path.join(path,i) for i in os.listdir(path)]\n",
    "    names = []\n",
    "    for path in imagePaths:\n",
    "        name = os.path.split(path)[1].split('.')[1]\n",
    "        names.append(name)\n",
    "\n",
    "    names = np.unique(names)      \n",
    "    return names\n",
    "\n",
    "while True:\n",
    "    ret, img =cam.read()\n",
    "    gray = cv2.cvtColor(img,cv2.COLOR_BGR2GRAY)\n",
    "    faces = face_detector.detectMultiScale(gray, 1.25, 6, minSize = (int(minW), int(minH)))\n",
    "                                           \n",
    "    for(x,y,w,h) in faces:\n",
    "        cv2.rectangle(img, (x,y), (x+w,y+h), (0,255,0), 2)\n",
    "        id, confidence = recognizer.predict(gray[y:y+h,x:x+w])\n",
    "\n",
    "        if (confidence < 55):\n",
    "            cv2.rectangle(img, (20,475), (240,345), (0,0,0), -1)\n",
    "            cv2.putText(img, str(get_name()[id]), (30,420), font, 1, (255,255,255), 2)\n",
    "            cv2.putText(img, str(role), (30,460), font, 1, (255,255,255), 2) \n",
    "            confidence = \"  {0}%\".format(round(100 - confidence))\n",
    "            cv2.putText(img, str('Conf={}'.format(confidence)), (30,380), font, 1, (255,255,0), 1) \n",
    "        else:\n",
    "#             cv2.putText(img, 'Guest', (x+5,y-5), font, 1, (255,255,255), 1)\n",
    "            confidence = \"  {0}%\".format(round(100 - confidence))\n",
    "    \n",
    "    cv2.imshow('Opencv',img) \n",
    "    k = cv2.waitKey(10) & 0xff \n",
    "    if k == 27:\n",
    "        break\n",
    "\n",
    "print(\"\\n Exit Program\")\n",
    "cam.release()\n",
    "cv2.destroyAllWindows()"
   ]
  },
  {
   "cell_type": "code",
   "execution_count": null,
   "id": "facial-vision",
   "metadata": {},
   "outputs": [],
   "source": []
  }
 ],
 "metadata": {
  "kernelspec": {
   "display_name": "Python 3",
   "language": "python",
   "name": "python3"
  },
  "language_info": {
   "codemirror_mode": {
    "name": "ipython",
    "version": 3
   },
   "file_extension": ".py",
   "mimetype": "text/x-python",
   "name": "python",
   "nbconvert_exporter": "python",
   "pygments_lexer": "ipython3",
   "version": "3.7.9"
  }
 },
 "nbformat": 4,
 "nbformat_minor": 5
}
